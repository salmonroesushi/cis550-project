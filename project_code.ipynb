{
 "cells": [
  {
   "cell_type": "code",
   "execution_count": 19,
   "metadata": {},
   "outputs": [],
   "source": [
    "import pandas as pd\n",
    "import csv\n",
    "import re\n",
    "from html.parser import HTMLParser\n",
    "import unicodedata\n",
    "from sklearn.feature_extraction.text import TfidfVectorizer\n",
    "from sklearn.feature_extraction.text import CountVectorizer"
   ]
  },
  {
   "cell_type": "code",
   "execution_count": 2,
   "metadata": {},
   "outputs": [],
   "source": [
    "# descripton cleaning helper functions\n",
    "\n",
    "class MLStripper(HTMLParser):\n",
    "    def __init__(self):\n",
    "        self.reset()\n",
    "        self.strict = False\n",
    "        self.convert_charrefs= True\n",
    "        self.fed = []\n",
    "    def handle_data(self, d):\n",
    "        self.fed.append(d)\n",
    "    def get_data(self):\n",
    "        return ''.join(self.fed)\n",
    "\n",
    "def strip_tags(html):\n",
    "    s = MLStripper()\n",
    "    s.feed(html)\n",
    "    return s.get_data()\n",
    "\n",
    "def remove_email(desc):\n",
    "    match = re.search(r'[\\w\\.-]+@[\\w\\.-]+', desc)\n",
    "    \n",
    "    if match is not None:\n",
    "        email = match.group(0)\n",
    "        # print(f'EMAIL={email}')\n",
    "        return desc.replace(email,'')\n",
    "    else:\n",
    "        # print('NO EMAIL IN DESCRIPTION')\n",
    "        return desc\n",
    "\n",
    "def clean_description(html):\n",
    "    #desc = unidecode.unidecode(html)\n",
    "    desc = unicodedata.normalize('NFKD', html)\n",
    "    \n",
    "    # remove email\n",
    "    desc = remove_email(desc)\n",
    "    \n",
    "    # replace linebreaks and paragraph tags with space\n",
    "    desc = re.sub('<\\\\s*br\\\\s*>', ' ', desc)\n",
    "    desc = re.sub('<\\\\s*br\\\\s*/\\\\s*>', ' ', desc)\n",
    "    desc = re.sub('<\\\\s*p\\\\s*>', ' ', desc)\n",
    "    desc = re.sub('<\\\\s*p\\\\s*/\\\\s*>', ' ', desc)\n",
    "    \n",
    "    # parse and remove other HTML tags / symbol entities\n",
    "    desc = strip_tags(desc)\n",
    "    \n",
    "    # replace all non-alphanumeric characters\n",
    "    # may or may not bite us in the ass; see how it goes\n",
    "    desc = re.sub('[^a-zA-Z0-9]', ' ', desc)\n",
    "    \n",
    "    # lowercase result string\n",
    "    desc = desc.lower()\n",
    "    \n",
    "    # return cleaned string with extra spaces removed\n",
    "    return ' '.join(desc.split())   \n",
    "    "
   ]
  },
  {
   "cell_type": "code",
   "execution_count": 3,
   "metadata": {},
   "outputs": [],
   "source": [
    "# misc properties before running code\n",
    "\n",
    "# increases text displayed in pandas table for Jupyter Notebook\n",
    "pd.options.display.max_colwidth = 10000"
   ]
  },
  {
   "cell_type": "code",
   "execution_count": 4,
   "metadata": {},
   "outputs": [],
   "source": [
    "# read csv into pandas DataFrame\n",
    "orig_data = pd.read_csv('sample.csv', keep_default_na=False)"
   ]
  },
  {
   "cell_type": "code",
   "execution_count": 5,
   "metadata": {},
   "outputs": [],
   "source": [
    "# clean descriptions (takes some time)\n",
    "orig_data['description'] = orig_data['description'].apply(clean_description)"
   ]
  },
  {
   "cell_type": "code",
   "execution_count": 41,
   "metadata": {},
   "outputs": [
    {
     "name": "stdout",
     "output_type": "stream",
     "text": [
      "['10', '50lbs', '74011', '74012', '74063', '74104', '74105', '74107', '74110', '74112', '74114', '74115', '74127', '74129', '74133', '74135', '74136', '74137', '74145', '74146', '8801', 'abilities', 'ability', 'accommodation', 'accounts', 'achievement', 'additional', 'address', 'adhere', 'aiding', 'analytical', 'application', 'applications', 'areas', 'assigned', 'attention', 'automobile', 'background', 'based', 'belief', 'believe', 'bend', 'better', 'box', 'brand', 'businesses', 'career', 'challenges', 'check', 'cleaned', 'codes', 'coinstar', 'collects', 'com', 'communicates', 'communication', 'communications', 'commute', 'company', 'complete', 'computer', 'conflict', 'contact', 'contribute', 'cooperates', 'counts', 'create', 'creative', 'customer', 'customers', 'cutters', 'daily', 'degree', 'demonstrate', 'demonstrates', 'developing', 'diploma', 'diplomatically', 'directed', 'direction', 'disabilities', 'distributed', 'diverse', 'diversity', 'driving', 'drug', 'dynamic', 'ecoatm', 'education', 'employees', 'employer', 'endless', 'environment', 'equal', 'equivalent', 'ethics', 'everyday', 'excellent', 'exciting', 'experience', 'extended', 'females', 'field', 'following', 'fsr', 'goals', 'good', 'grow', 'growing', 'hand', 'hex', 'high', 'highly', 'honesty', 'http', 'id', 'ideas', 'identified', 'important', 'includes', 'including', 'inclusion', 'individual', 'innovative', 'installation', 'inter', 'interacting', 'interaction', 'inventory', 'job', 'keeps', 'key', 'keys', 'kiosk', 'kiosks', 'kneel', 'knowledge', 'level', 'life', 'lift', 'light', 'like', 'literate', 'little', 'live', 'll', 'loads', 'locations', 'lookout', 'machine', 'machines', 'maintained', 'maintenance', 'making', 'managers', 'manner', 'markets', 'maximize', 'meet', 'members', 'merchandise', 'merchandising', 'miles', 'minorities', 'motivation', 'movies', 'multi', 'mvr', 'near', 'need', 'needed', 'network', 'new', 'notes', 'office', 'oklahoma', 'operating', 'operations', 'opportunity', 'order', 'organizational', 'organized', 'outerwall', 'overages', 'overview', 'owners', 'partners', 'parts', 'passion', 'passionate', 'pay', 'perform', 'periods', 'person', 'personal', 'personnel', 'persons', 'physical', 'places', 'pliers', 'portfolio', 'position', 'positive', 'posting', 'prefer', 'presentation', 'preventative', 'prior', 'problem', 'problems', 'process', 'product', 'productive', 'products', 'proficiency', 'programs', 'promotes', 'proper', 'protected', 'provided', 'provides', 'qlm', 'quality', 'reasonable', 'record', 'records', 'redbox', 'redefining', 'regular', 'related', 'reporting', 'representative', 'req', 'requests', 'required', 'requirement', 'requirements', 'researching', 'resolve', 'responsibilities', 'retail', 'ros', 'route', 'sales', 'school', 'screen', 'screwdriver', 'security', 'self', 'service', 'services', 'shortages', 'simpler', 'skill', 'skills', 'small', 'software', 'solid', 'solving', 'spare', 'special', 'specifically', 'stand', 'standards', 'states', 'status', 'stock', 'store', 'strength', 'strong', 'success', 'successful', 'successfully', 'support', 'sure', 'taken', 'tasking', 'team', 'technical', 'territory', 'theft', 'thinkers', 'time', 'tools', 'travel', 'tulsa', 'united', 'unloads', 'unwavering', 'values', 'vandalism', 'veterans', 'want', 'warehouse', 'ways', 'web', 'welcoming', 'window', 'work', 'workers', 'working', 'wrenches', 'www', 'years', 'zip']\n",
      "305\n",
      "[1 1 1 1 1 1 1 1 1 1 1 1 1 1 1 1 1 1 1 1 1 1 5 1 2 1 1 1 1 1 1 1 1 1 2 1 1\n",
      " 1 2 1 1 1 1 1 1 1 1 1 2 1 1 2 1 1 1 1 1 2 2 2 3 1 1 1 1 1 1 1 3 1 1 2 1 1\n",
      " 1 1 1 1 1 1 1 1 1 1 1 1 1 2 1 1 1 1 2 1 1 1 1 1 2 3 1 1 2 1 1 1 1 1 1 1 1\n",
      " 2 1 1 1 1 1 1 1 2 1 1 1 1 1 1 1 1 1 1 3 2 1 4 2 1 1 1 1 1 3 2 1 1 1 1 1 1\n",
      " 1 3 5 1 2 1 1 1 1 1 1 1 2 4 1 1 2 2 1 1 1 1 1 1 1 1 1 1 1 2 2 1 2 1 3 1 1\n",
      " 1 1 1 1 1 1 1 1 1 1 1 1 1 1 1 1 1 2 1 1 1 1 1 1 1 1 4 1 2 1 1 1 1 1 1 1 1\n",
      " 1 1 3 1 5 1 1 1 1 1 1 1 2 1 3 1 1 1 2 3 2 1 1 1 1 1 2 3 1 1 1 1 2 1 1 1 2\n",
      " 1 1 1 1 1 1 1 1 1 1 1 1 1 1 2 1 1 1 2 1 1 1 1 1 1 2 1 1 1 1 1 1 1 1 1 1 1\n",
      " 1 1 1 1 2 1 1 1 1]\n",
      "305\n"
     ]
    }
   ],
   "source": [
    "# CountVectorizer expects a list/iterable, so change string into a one-element list\n",
    "input = [orig_data.loc[0,'description']]\n",
    "vectorizer = CountVectorizer(strip_accents='unicode', stop_words='english', ngram_range=(1,1))\n",
    "foo = vectorizer.fit_transform(input)\n",
    "vectorizer._validate_vocabulary()\n",
    "# gets unique words\n",
    "bar = vectorizer.get_feature_names()\n",
    "# gets list of list of count of each word (1 list of list with 305 numbers)\n",
    "baz = foo.toarray()\n",
    "baz = baz[0]\n",
    "print(bar)\n",
    "print(len(bar))\n",
    "print(baz)\n",
    "print(len(baz))"
   ]
  },
  {
   "cell_type": "code",
   "execution_count": null,
   "metadata": {},
   "outputs": [],
   "source": []
  }
 ],
 "metadata": {
  "kernelspec": {
   "display_name": "Python 3",
   "language": "python",
   "name": "python3"
  },
  "language_info": {
   "codemirror_mode": {
    "name": "ipython",
    "version": 3
   },
   "file_extension": ".py",
   "mimetype": "text/x-python",
   "name": "python",
   "nbconvert_exporter": "python",
   "pygments_lexer": "ipython3",
   "version": "3.7.0"
  }
 },
 "nbformat": 4,
 "nbformat_minor": 2
}
