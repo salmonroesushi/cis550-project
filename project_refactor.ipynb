{
 "cells": [
  {
   "cell_type": "code",
   "execution_count": 1,
   "metadata": {},
   "outputs": [],
   "source": [
    "import pandas as pd\n",
    "import csv\n",
    "import re\n",
    "from html.parser import HTMLParser\n",
    "import unicodedata\n",
    "from sklearn.feature_extraction.text import CountVectorizer\n",
    "from sklearn.feature_extraction.text import TfidfVectorizer\n",
    "from sklearn.feature_extraction.text import TfidfTransformer\n",
    "from sklearn.naive_bayes import MultinomialNB"
   ]
  },
  {
   "cell_type": "code",
   "execution_count": 2,
   "metadata": {},
   "outputs": [],
   "source": [
    "# descripton cleaning helper functions\n",
    "\n",
    "class MLStripper(HTMLParser):\n",
    "    def __init__(self):\n",
    "        self.reset()\n",
    "        self.strict = False\n",
    "        self.convert_charrefs= True\n",
    "        self.fed = []\n",
    "    def handle_data(self, d):\n",
    "        self.fed.append(d)\n",
    "    def get_data(self):\n",
    "        return ''.join(self.fed)\n",
    "\n",
    "def strip_tags(html):\n",
    "    s = MLStripper()\n",
    "    s.feed(html)\n",
    "    return s.get_data()\n",
    "\n",
    "def remove_email(desc):\n",
    "    match = re.search(r'[\\w\\.-]+@[\\w\\.-]+', desc)\n",
    "    \n",
    "    if match is not None:\n",
    "        email = match.group(0)\n",
    "        # print(f'EMAIL={email}')\n",
    "        return desc.replace(email,'')\n",
    "    else:\n",
    "        # print('NO EMAIL IN DESCRIPTION')\n",
    "        return desc\n",
    "\n",
    "def clean_description(html):\n",
    "    #desc = unidecode.unidecode(html)\n",
    "    desc = unicodedata.normalize('NFKD', html)\n",
    "    \n",
    "    # remove email\n",
    "    desc = remove_email(desc)\n",
    "    \n",
    "    # replace linebreaks and paragraph tags with space\n",
    "    desc = re.sub('<\\\\s*br\\\\s*>', ' ', desc)\n",
    "    desc = re.sub('<\\\\s*br\\\\s*/\\\\s*>', ' ', desc)\n",
    "    desc = re.sub('<\\\\s*p\\\\s*>', ' ', desc)\n",
    "    desc = re.sub('<\\\\s*p\\\\s*/\\\\s*>', ' ', desc)\n",
    "    \n",
    "    # parse and remove other HTML tags / symbol entities\n",
    "    desc = strip_tags(desc)\n",
    "    \n",
    "    # replace all non-alphanumeric characters\n",
    "    # may or may not bite us in the ass; see how it goes\n",
    "    desc = re.sub('[^a-zA-Z0-9]', ' ', desc)\n",
    "    \n",
    "    # lowercase result string\n",
    "    desc = desc.lower()\n",
    "    \n",
    "    # return cleaned string with extra spaces removed\n",
    "    return ' '.join(desc.split())"
   ]
  },
  {
   "cell_type": "code",
   "execution_count": 3,
   "metadata": {},
   "outputs": [],
   "source": [
    "# increases text displayed in pandas table for Jupyter Notebook\n",
    "pd.options.display.max_colwidth = 10000\n",
    "\n",
    "# read csv into pandas DataFrame (sample.csv = 100000)\n",
    "df = pd.read_csv('sample.csv', keep_default_na=False)\n",
    "\n",
    "# remove listings where description is blank (100000 -> 99680)\n",
    "df = df[df['description'] != '']\n",
    "\n",
    "# clean descriptions (takes some time) and remove blanks after cleaning (99680 -> 99641)\n",
    "df['cleaned'] = df['description'].apply(clean_description)\n",
    "df = df[df['cleaned'] != '']"
   ]
  },
  {
   "cell_type": "code",
   "execution_count": 4,
   "metadata": {},
   "outputs": [],
   "source": [
    "# 70:30 train-test split; 99641 * 0.7 ~ 69750\n",
    "df_train = df[0:69750]\n",
    "df_test = df[69750:]\n",
    "\n",
    "# training description and label\n",
    "df_train_desc = df_train['cleaned']\n",
    "df_train_label = df_train['onet']\n",
    "\n",
    "# testing description and label\n",
    "df_test_desc = df_test['cleaned']\n",
    "df_test_label = df_test['onet']"
   ]
  },
  {
   "cell_type": "code",
   "execution_count": 5,
   "metadata": {},
   "outputs": [],
   "source": [
    "# initialize count vectorizer\n",
    "count_vectorizer = CountVectorizer(strip_accents='unicode', stop_words='english', ngram_range=(1,1))\n",
    "df_train_cv = count_vectorizer.fit_transform(df_train_desc)\n",
    "\n",
    "# initialize tf transformer\n",
    "tf_transformer = TfidfTransformer(use_idf=False)\n",
    "df_train_tf = tf_transformer.fit_transform(df_train_cv)\n",
    "\n",
    "# initialize tf-idf transformer\n",
    "tfidf_transformer = TfidfTransformer(use_idf=True)\n",
    "df_train_tfidf = tfidf_transformer.fit_transform(df_train_cv)"
   ]
  },
  {
   "cell_type": "code",
   "execution_count": 6,
   "metadata": {},
   "outputs": [],
   "source": [
    "# test naive bayes classification\n",
    "clf = MultinomialNB().fit(df_train_tfidf, df_train_label)"
   ]
  },
  {
   "cell_type": "code",
   "execution_count": 7,
   "metadata": {},
   "outputs": [],
   "source": [
    "#df_test_tf = get_test_tf_transformer(df_train_cv, df_train_tfidf, df_test['cleaned'])\n",
    "df_test_cv = count_vectorizer.transform(df_test_desc)\n",
    "df_test_tf = tf_transformer.fit_transform(df_test_cv)\n",
    "df_test_tfidf = tfidf_transformer.fit_transform(df_test_cv)"
   ]
  },
  {
   "cell_type": "code",
   "execution_count": 8,
   "metadata": {},
   "outputs": [],
   "source": [
    "predicted = clf.predict(df_test_tfidf)"
   ]
  },
  {
   "cell_type": "code",
   "execution_count": 9,
   "metadata": {},
   "outputs": [
    {
     "data": {
      "text/plain": [
       "array(['15-1031.00', '41-2031.00', '15-1031.00', ..., '11-2021.00',\n",
       "       '41-2031.00', '53-3032.00'], dtype='<U10')"
      ]
     },
     "execution_count": 9,
     "metadata": {},
     "output_type": "execute_result"
    }
   ],
   "source": [
    "predicted"
   ]
  },
  {
   "cell_type": "code",
   "execution_count": 10,
   "metadata": {},
   "outputs": [
    {
     "data": {
      "text/plain": [
       "0.33916563514101233"
      ]
     },
     "execution_count": 10,
     "metadata": {},
     "output_type": "execute_result"
    }
   ],
   "source": [
    "score = clf.score(df_test_tfidf, df_test_label)\n",
    "score"
   ]
  },
  {
   "cell_type": "code",
   "execution_count": null,
   "metadata": {},
   "outputs": [],
   "source": []
  }
 ],
 "metadata": {
  "kernelspec": {
   "display_name": "Python 3",
   "language": "python",
   "name": "python3"
  },
  "language_info": {
   "codemirror_mode": {
    "name": "ipython",
    "version": 3
   },
   "file_extension": ".py",
   "mimetype": "text/x-python",
   "name": "python",
   "nbconvert_exporter": "python",
   "pygments_lexer": "ipython3",
   "version": "3.7.0"
  }
 },
 "nbformat": 4,
 "nbformat_minor": 2
}
