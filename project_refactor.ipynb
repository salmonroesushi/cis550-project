{
 "cells": [
  {
   "cell_type": "code",
   "execution_count": 1,
   "metadata": {},
   "outputs": [
    {
     "name": "stderr",
     "output_type": "stream",
     "text": [
      "D:\\Anaconda3\\lib\\site-packages\\sklearn\\ensemble\\weight_boosting.py:29: DeprecationWarning: numpy.core.umath_tests is an internal NumPy module and should not be imported. It will be removed in a future NumPy release.\n",
      "  from numpy.core.umath_tests import inner1d\n"
     ]
    }
   ],
   "source": [
    "import pandas as pd\n",
    "import csv\n",
    "import re\n",
    "from html.parser import HTMLParser\n",
    "import unicodedata\n",
    "from sklearn.feature_extraction.text import CountVectorizer\n",
    "from sklearn.feature_extraction.text import TfidfVectorizer\n",
    "from sklearn.feature_extraction.text import TfidfTransformer\n",
    "from sklearn.naive_bayes import MultinomialNB\n",
    "from sklearn.linear_model import RidgeClassifier\n",
    "from sklearn.linear_model import SGDClassifier\n",
    "from sklearn.linear_model import Perceptron\n",
    "from sklearn.ensemble import RandomForestClassifier #DeprecationWarning on numpy.core.umath_tests\n",
    "from sklearn.svm import LinearSVC\n",
    "from sklearn.neighbors import KNeighborsClassifier\n",
    "from sklearn.neighbors import NearestCentroid"
   ]
  },
  {
   "cell_type": "code",
   "execution_count": 2,
   "metadata": {},
   "outputs": [],
   "source": [
    "# descripton cleaning helper functions\n",
    "\n",
    "class MLStripper(HTMLParser):\n",
    "    def __init__(self):\n",
    "        self.reset()\n",
    "        self.strict = False\n",
    "        self.convert_charrefs= True\n",
    "        self.fed = []\n",
    "    def handle_data(self, d):\n",
    "        self.fed.append(d)\n",
    "    def get_data(self):\n",
    "        return ''.join(self.fed)\n",
    "\n",
    "def strip_tags(html):\n",
    "    s = MLStripper()\n",
    "    s.feed(html)\n",
    "    return s.get_data()\n",
    "\n",
    "def remove_email(desc):\n",
    "    match = re.search(r'[\\w\\.-]+@[\\w\\.-]+', desc)\n",
    "    \n",
    "    if match is not None:\n",
    "        email = match.group(0)\n",
    "        # print(f'EMAIL={email}')\n",
    "        return desc.replace(email,'')\n",
    "    else:\n",
    "        # print('NO EMAIL IN DESCRIPTION')\n",
    "        return desc\n",
    "\n",
    "def clean_description(html):\n",
    "    #desc = unidecode.unidecode(html)\n",
    "    desc = unicodedata.normalize('NFKD', html)\n",
    "    \n",
    "    # remove email\n",
    "    desc = remove_email(desc)\n",
    "    \n",
    "    # replace linebreaks and paragraph tags with space\n",
    "    desc = re.sub('<\\\\s*br\\\\s*>', ' ', desc)\n",
    "    desc = re.sub('<\\\\s*br\\\\s*/\\\\s*>', ' ', desc)\n",
    "    desc = re.sub('<\\\\s*p\\\\s*>', ' ', desc)\n",
    "    desc = re.sub('<\\\\s*p\\\\s*/\\\\s*>', ' ', desc)\n",
    "    \n",
    "    # parse and remove other HTML tags / symbol entities\n",
    "    desc = strip_tags(desc)\n",
    "    \n",
    "    # replace all non-alphanumeric characters\n",
    "    # may or may not bite us in the ass; see how it goes\n",
    "    desc = re.sub('[^a-zA-Z0-9]', ' ', desc)\n",
    "    \n",
    "    # lowercase result string\n",
    "    desc = desc.lower()\n",
    "    \n",
    "    # return cleaned string with extra spaces removed\n",
    "    return ' '.join(desc.split())"
   ]
  },
  {
   "cell_type": "code",
   "execution_count": 3,
   "metadata": {},
   "outputs": [],
   "source": [
    "# increases text displayed in pandas table for Jupyter Notebook\n",
    "pd.options.display.max_colwidth = 10000\n",
    "\n",
    "# read csv into pandas DataFrame (sample.csv = 100000)\n",
    "df = pd.read_csv('sample.csv', keep_default_na=False)\n",
    "\n",
    "# remove listings where description is blank (100000 -> 99680)\n",
    "df = df[df['description'] != '']\n",
    "\n",
    "# clean descriptions (takes some time) and remove blanks after cleaning (99680 -> 99641)\n",
    "df['cleaned'] = df['description'].apply(clean_description)\n",
    "df = df[df['cleaned'] != '']"
   ]
  },
  {
   "cell_type": "code",
   "execution_count": 4,
   "metadata": {},
   "outputs": [],
   "source": [
    "# 70:30 train-test split; 99641 * 0.7 ~ 69750\n",
    "df_train = df[0:69750]\n",
    "df_test = df[69750:]\n",
    "\n",
    "# training description and label\n",
    "df_train_desc = df_train['cleaned']\n",
    "df_train_label = df_train['onet']\n",
    "\n",
    "# testing description and label\n",
    "df_test_desc = df_test['cleaned']\n",
    "df_test_label = df_test['onet']"
   ]
  },
  {
   "cell_type": "code",
   "execution_count": 5,
   "metadata": {},
   "outputs": [],
   "source": [
    "# initialize count vectorizer\n",
    "count_vectorizer = CountVectorizer(strip_accents='unicode', stop_words='english', ngram_range=(1,1))\n",
    "df_train_cv = count_vectorizer.fit_transform(df_train_desc)\n",
    "\n",
    "# initialize tf transformer\n",
    "tf_transformer = TfidfTransformer(use_idf=False)\n",
    "df_train_tf = tf_transformer.fit_transform(df_train_cv)\n",
    "\n",
    "# initialize tf-idf transformer\n",
    "tfidf_transformer = TfidfTransformer(use_idf=True)\n",
    "df_train_tfidf = tfidf_transformer.fit_transform(df_train_cv)"
   ]
  },
  {
   "cell_type": "code",
   "execution_count": 6,
   "metadata": {},
   "outputs": [],
   "source": [
    "#df_test_tf = get_test_tf_transformer(df_train_cv, df_train_tfidf, df_test['cleaned'])\n",
    "df_test_cv = count_vectorizer.transform(df_test_desc)\n",
    "df_test_tf = tf_transformer.transform(df_test_cv)\n",
    "df_test_tfidf = tfidf_transformer.transform(df_test_cv)"
   ]
  },
  {
   "cell_type": "markdown",
   "metadata": {},
   "source": [
    "# Multinomial Naive Bayes"
   ]
  },
  {
   "cell_type": "code",
   "execution_count": 7,
   "metadata": {},
   "outputs": [
    {
     "data": {
      "text/plain": [
       "'\\n# test multinomial naive bayes classification (term frequency)\\nmnb_clf_tf = MultinomialNB().fit(df_train_tf, df_train_label)\\n#predicted = clf.predict(df_test_tfidf)\\nscore = mnb_clf_tf.score(df_test_tf, df_test_label)\\nscore\\n'"
      ]
     },
     "execution_count": 7,
     "metadata": {},
     "output_type": "execute_result"
    }
   ],
   "source": [
    "\"\"\"\n",
    "# test multinomial naive bayes classification (term frequency)\n",
    "mnb_clf_tf = MultinomialNB().fit(df_train_tf, df_train_label)\n",
    "#predicted = clf.predict(df_test_tfidf)\n",
    "score = mnb_clf_tf.score(df_test_tf, df_test_label)\n",
    "score\n",
    "\"\"\""
   ]
  },
  {
   "cell_type": "code",
   "execution_count": 8,
   "metadata": {},
   "outputs": [
    {
     "data": {
      "text/plain": [
       "'\\n# test naive bayes classification (tf-idf)\\nmnb_clf_tfidf = MultinomialNB().fit(df_train_tfidf, df_train_label)\\nscore = mnb_clf_tfidf.score(df_test_tfidf, df_test_label)\\nscore\\n'"
      ]
     },
     "execution_count": 8,
     "metadata": {},
     "output_type": "execute_result"
    }
   ],
   "source": [
    "\"\"\"\n",
    "# test naive bayes classification (tf-idf)\n",
    "mnb_clf_tfidf = MultinomialNB().fit(df_train_tfidf, df_train_label)\n",
    "score = mnb_clf_tfidf.score(df_test_tfidf, df_test_label)\n",
    "score\n",
    "\"\"\""
   ]
  },
  {
   "cell_type": "markdown",
   "metadata": {},
   "source": [
    "# Ridge Regression Classification"
   ]
  },
  {
   "cell_type": "code",
   "execution_count": 11,
   "metadata": {},
   "outputs": [
    {
     "name": "stderr",
     "output_type": "stream",
     "text": [
      "D:\\Anaconda3\\lib\\site-packages\\sklearn\\linear_model\\sag.py:326: ConvergenceWarning: The max_iter was reached which means the coef_ did not converge\n",
      "  \"the coef_ did not converge\", ConvergenceWarning)\n"
     ]
    }
   ],
   "source": [
    "\"\"\"\n",
    "# test ridge regression classifier (tf)\n",
    "rr_clf_tf = RidgeClassifier(max_iter=1).fit(df_train_tf, df_train_label)\n",
    "score = rr_clf_tf.score(df_test_tf, df_test_label)\n",
    "score\n",
    "\"\"\""
   ]
  },
  {
   "cell_type": "code",
   "execution_count": 14,
   "metadata": {},
   "outputs": [
    {
     "name": "stderr",
     "output_type": "stream",
     "text": [
      "D:\\Anaconda3\\lib\\site-packages\\sklearn\\linear_model\\sag.py:326: ConvergenceWarning: The max_iter was reached which means the coef_ did not converge\n",
      "  \"the coef_ did not converge\", ConvergenceWarning)\n"
     ]
    },
    {
     "data": {
      "text/plain": [
       "0.6406276136629755"
      ]
     },
     "execution_count": 14,
     "metadata": {},
     "output_type": "execute_result"
    }
   ],
   "source": [
    "\"\"\"\n",
    "# test ridge regression classifier (tf-idf)\n",
    "rr_clf_tfidf = RidgeClassifier(max_iter=1).fit(df_train_tfidf, df_train_label)\n",
    "score = rr_clf_tfidf.score(df_test_tfidf, df_test_label)\n",
    "score\n",
    "\"\"\""
   ]
  },
  {
   "cell_type": "markdown",
   "metadata": {},
   "source": [
    "# Random Forest Classification"
   ]
  },
  {
   "cell_type": "code",
   "execution_count": 15,
   "metadata": {},
   "outputs": [
    {
     "data": {
      "text/plain": [
       "0.5836539426583253"
      ]
     },
     "execution_count": 15,
     "metadata": {},
     "output_type": "execute_result"
    }
   ],
   "source": [
    "\"\"\"\n",
    "# test random forest classification (tf)\n",
    "rf_clf_tf = RandomForestClassifier().fit(df_train_tf, df_train_label)\n",
    "score = rf_clf_tf.score(df_test_tf, df_test_label)\n",
    "score\n",
    "\"\"\""
   ]
  },
  {
   "cell_type": "code",
   "execution_count": 16,
   "metadata": {},
   "outputs": [
    {
     "data": {
      "text/plain": [
       "0.582081563012278"
      ]
     },
     "execution_count": 16,
     "metadata": {},
     "output_type": "execute_result"
    }
   ],
   "source": [
    "\"\"\"\n",
    "# test random forest classification (tf-idf)\n",
    "rf_clf_tfidf = RandomForestClassifier().fit(df_train_tfidf, df_train_label)\n",
    "score = rf_clf_tfidf.score(df_test_tfidf, df_test_label)\n",
    "score\n",
    "\"\"\""
   ]
  },
  {
   "cell_type": "markdown",
   "metadata": {},
   "source": [
    "# Linear SVC Classification"
   ]
  },
  {
   "cell_type": "code",
   "execution_count": 18,
   "metadata": {},
   "outputs": [
    {
     "data": {
      "text/plain": [
       "0.6930848750460005"
      ]
     },
     "execution_count": 18,
     "metadata": {},
     "output_type": "execute_result"
    }
   ],
   "source": [
    "\"\"\"\n",
    "# test linear SVC classification (tf)\n",
    "lsvc_clf_tf = LinearSVC().fit(df_train_tf, df_train_label)\n",
    "score = lsvc_clf_tf.score(df_test_tf, df_test_label)\n",
    "score\n",
    "\"\"\""
   ]
  },
  {
   "cell_type": "code",
   "execution_count": 19,
   "metadata": {},
   "outputs": [
    {
     "data": {
      "text/plain": [
       "0.6958616305911478"
      ]
     },
     "execution_count": 19,
     "metadata": {},
     "output_type": "execute_result"
    }
   ],
   "source": [
    "\"\"\"\n",
    "lsvc_clf_tfidf = LinearSVC().fit(df_train_tfidf, df_train_label)\n",
    "score = lsvc_clf_tfidf.score(df_test_tfidf, df_test_label)\n",
    "score\n",
    "\"\"\""
   ]
  },
  {
   "cell_type": "markdown",
   "metadata": {},
   "source": [
    "# Linear w/ Stochastic Gradient Descent"
   ]
  },
  {
   "cell_type": "code",
   "execution_count": 21,
   "metadata": {},
   "outputs": [
    {
     "name": "stderr",
     "output_type": "stream",
     "text": [
      "D:\\Anaconda3\\lib\\site-packages\\sklearn\\linear_model\\stochastic_gradient.py:128: FutureWarning: max_iter and tol parameters have been added in <class 'sklearn.linear_model.stochastic_gradient.SGDClassifier'> in 0.19. If both are left unset, they default to max_iter=5 and tol=None. If tol is not None, max_iter defaults to max_iter=1000. From 0.21, default max_iter will be 1000, and default tol will be 1e-3.\n",
      "  \"and default tol will be 1e-3.\" % type(self), FutureWarning)\n"
     ]
    },
    {
     "data": {
      "text/plain": [
       "0.6417316249038172"
      ]
     },
     "execution_count": 21,
     "metadata": {},
     "output_type": "execute_result"
    }
   ],
   "source": [
    "\"\"\"\n",
    "sgd_clf_tf = SGDClassifier().fit(df_train_tf, df_train_label)\n",
    "score = sgd_clf_tf.score(df_test_tf, df_test_label)\n",
    "score\n",
    "\"\"\""
   ]
  },
  {
   "cell_type": "code",
   "execution_count": 22,
   "metadata": {},
   "outputs": [
    {
     "name": "stderr",
     "output_type": "stream",
     "text": [
      "D:\\Anaconda3\\lib\\site-packages\\sklearn\\linear_model\\stochastic_gradient.py:128: FutureWarning: max_iter and tol parameters have been added in <class 'sklearn.linear_model.stochastic_gradient.SGDClassifier'> in 0.19. If both are left unset, they default to max_iter=5 and tol=None. If tol is not None, max_iter defaults to max_iter=1000. From 0.21, default max_iter will be 1000, and default tol will be 1e-3.\n",
      "  \"and default tol will be 1e-3.\" % type(self), FutureWarning)\n"
     ]
    },
    {
     "data": {
      "text/plain": [
       "0.6568866883008263"
      ]
     },
     "execution_count": 22,
     "metadata": {},
     "output_type": "execute_result"
    }
   ],
   "source": [
    "\"\"\"\n",
    "sgd_clf_tfidf = SGDClassifier().fit(df_train_tfidf, df_train_label)\n",
    "score = sgd_clf_tfidf.score(df_test_tfidf, df_test_label)\n",
    "score\n",
    "\"\"\""
   ]
  },
  {
   "cell_type": "markdown",
   "metadata": {},
   "source": [
    "# Perceptron Classification"
   ]
  },
  {
   "cell_type": "code",
   "execution_count": 24,
   "metadata": {},
   "outputs": [
    {
     "name": "stderr",
     "output_type": "stream",
     "text": [
      "D:\\Anaconda3\\lib\\site-packages\\sklearn\\linear_model\\stochastic_gradient.py:128: FutureWarning: max_iter and tol parameters have been added in <class 'sklearn.linear_model.stochastic_gradient.SGDClassifier'> in 0.19. If both are left unset, they default to max_iter=5 and tol=None. If tol is not None, max_iter defaults to max_iter=1000. From 0.21, default max_iter will be 1000, and default tol will be 1e-3.\n",
      "  \"and default tol will be 1e-3.\" % type(self), FutureWarning)\n"
     ]
    },
    {
     "data": {
      "text/plain": [
       "0.64136362115687"
      ]
     },
     "execution_count": 24,
     "metadata": {},
     "output_type": "execute_result"
    }
   ],
   "source": [
    "p_clf_tf = SGDClassifier().fit(df_train_tf, df_train_label)\n",
    "score = p_clf_tf.score(df_test_tf, df_test_label)\n",
    "score"
   ]
  },
  {
   "cell_type": "code",
   "execution_count": 25,
   "metadata": {},
   "outputs": [
    {
     "name": "stderr",
     "output_type": "stream",
     "text": [
      "D:\\Anaconda3\\lib\\site-packages\\sklearn\\linear_model\\stochastic_gradient.py:128: FutureWarning: max_iter and tol parameters have been added in <class 'sklearn.linear_model.stochastic_gradient.SGDClassifier'> in 0.19. If both are left unset, they default to max_iter=5 and tol=None. If tol is not None, max_iter defaults to max_iter=1000. From 0.21, default max_iter will be 1000, and default tol will be 1e-3.\n",
      "  \"and default tol will be 1e-3.\" % type(self), FutureWarning)\n"
     ]
    },
    {
     "data": {
      "text/plain": [
       "0.6549463049078318"
      ]
     },
     "execution_count": 25,
     "metadata": {},
     "output_type": "execute_result"
    }
   ],
   "source": [
    "p_clf_tfidf = SGDClassifier().fit(df_train_tfidf, df_train_label)\n",
    "score = p_clf_tfidf.score(df_test_tfidf, df_test_label)\n",
    "score"
   ]
  },
  {
   "cell_type": "markdown",
   "metadata": {},
   "source": [
    "# Nearest Centroid"
   ]
  },
  {
   "cell_type": "code",
   "execution_count": 10,
   "metadata": {},
   "outputs": [
    {
     "name": "stderr",
     "output_type": "stream",
     "text": [
      "D:\\Anaconda3\\lib\\site-packages\\sklearn\\neighbors\\nearest_centroid.py:140: UserWarning: Averaging for metrics other than euclidean and manhattan not supported. The average is set to be the mean.\n",
      "  warnings.warn(\"Averaging for metrics other than \"\n"
     ]
    },
    {
     "data": {
      "text/plain": [
       "0.5040647686594627"
      ]
     },
     "execution_count": 10,
     "metadata": {},
     "output_type": "execute_result"
    }
   ],
   "source": [
    "# ‘cityblock’, ‘cosine’, ‘euclidean’, ‘l1’, ‘l2’, ‘manhattan’\n",
    "nc_clf_tf = NearestCentroid(metric='cosine').fit(df_train_tf, df_train_label)\n",
    "score = nc_clf_tf.score(df_test_tf, df_test_label)\n",
    "score"
   ]
  },
  {
   "cell_type": "code",
   "execution_count": 13,
   "metadata": {},
   "outputs": [
    {
     "name": "stderr",
     "output_type": "stream",
     "text": [
      "D:\\Anaconda3\\lib\\site-packages\\sklearn\\neighbors\\nearest_centroid.py:140: UserWarning: Averaging for metrics other than euclidean and manhattan not supported. The average is set to be the mean.\n",
      "  warnings.warn(\"Averaging for metrics other than \"\n"
     ]
    },
    {
     "data": {
      "text/plain": [
       "0.5342076210230504"
      ]
     },
     "execution_count": 13,
     "metadata": {},
     "output_type": "execute_result"
    }
   ],
   "source": [
    "nc_clf_tfidf = NearestCentroid(metric='cosine').fit(df_train_tfidf, df_train_label)\n",
    "score = nc_clf_tfidf.score(df_test_tfidf, df_test_label)\n",
    "score"
   ]
  },
  {
   "cell_type": "code",
   "execution_count": null,
   "metadata": {},
   "outputs": [],
   "source": []
  }
 ],
 "metadata": {
  "kernelspec": {
   "display_name": "Python 3",
   "language": "python",
   "name": "python3"
  },
  "language_info": {
   "codemirror_mode": {
    "name": "ipython",
    "version": 3
   },
   "file_extension": ".py",
   "mimetype": "text/x-python",
   "name": "python",
   "nbconvert_exporter": "python",
   "pygments_lexer": "ipython3",
   "version": "3.7.0"
  }
 },
 "nbformat": 4,
 "nbformat_minor": 2
}
